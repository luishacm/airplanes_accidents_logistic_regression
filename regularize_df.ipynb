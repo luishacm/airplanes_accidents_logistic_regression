{
 "cells": [
  {
   "cell_type": "code",
   "execution_count": 6,
   "metadata": {},
   "outputs": [],
   "source": [
    "import pandas as pd\n",
    "\n",
    "# Carregar o arquivo Excel\n",
    "file_path = 'tb_ocorrencias.xlsx'\n",
    "\n",
    "# Carregar cada tabela do arquivo Excel\n",
    "ocorrencia_df = pd.read_excel(file_path, sheet_name='ocorrencia')\n",
    "ocorrencia_tipo_df = pd.read_excel(file_path, sheet_name='ocorrencia_tipo')\n",
    "aeronave_df = pd.read_excel(file_path, sheet_name='aeronave')\n",
    "recomendacao_df = pd.read_excel(file_path, sheet_name='recomendacao')\n",
    "\n",
    "# Criar colunas dummy para a tabela 'ocorrencia_tipo'\n",
    "ocorrencia_tipo_dummies = pd.crosstab(ocorrencia_tipo_df['codigo_ocorrencia1'], ocorrencia_tipo_df['ocorrencia_tipo_categoria']).reset_index()\n",
    "\n",
    "# Realizar a associação das tabelas com a tabela 'ocorrencia'\n",
    "merged_df = ocorrencia_df.copy()\n",
    "\n",
    "# Associar cada uma das outras tabelas usando as colunas corretas\n",
    "merged_df = pd.merge(merged_df, ocorrencia_tipo_dummies, on='codigo_ocorrencia1', how='left')\n",
    "merged_df = pd.merge(merged_df, aeronave_df, left_on='codigo_ocorrencia2', right_on='codigo_ocorrencia2', how='left')\n",
    "merged_df = pd.merge(merged_df, recomendacao_df, left_on='codigo_ocorrencia4', right_on='codigo_ocorrencia4', how='left')\n",
    "\n",
    "# Preencher os valores ausentes nas colunas dummy com 0\n",
    "dummy_columns = ocorrencia_tipo_dummies.columns[1:]\n",
    "merged_df[dummy_columns] = merged_df[dummy_columns].fillna(0)\n",
    "\n",
    "# Salvar a tabela consolidada em um novo arquivo Excel\n",
    "output_file_path = 'tabela_consolidada_ocorrencias_v2.xlsx'\n",
    "merged_df.to_excel(output_file_path, index=False)"
   ]
  },
  {
   "cell_type": "code",
   "execution_count": 18,
   "metadata": {},
   "outputs": [],
   "source": [
    "import pandas as pd\n",
    "\n",
    "# Carregar o arquivo Excel\n",
    "file_path = 'tb_ocorrencias.xlsx'\n",
    "\n",
    "# Carregar cada tabela do arquivo Excel\n",
    "ocorrencia_df = pd.read_excel(file_path, sheet_name='ocorrencia')\n",
    "ocorrencia_tipo_df = pd.read_excel(file_path, sheet_name='ocorrencia_tipo')\n",
    "aeronave_df = pd.read_excel(file_path, sheet_name='aeronave')\n",
    "aeronave_df.drop_duplicates(\"codigo_ocorrencia2\", keep=\"first\", inplace=True)\n",
    "\n",
    "# recomendacao_df = pd.read_excel(file_path, sheet_name='recomendacao')\n",
    "\n",
    "# Selecionar apenas as colunas \"codigo_ocorrencia1\" e \"ocorrencia_tipo\"\n",
    "ocorrencia_tipo_df = ocorrencia_tipo_df[[\"codigo_ocorrencia1\", \"ocorrencia_tipo\"]]\n",
    "\n",
    "# Criar dummies para a coluna \"ocorrencia_tipo\"\n",
    "ocorrencia_tipo_dummies = pd.get_dummies(ocorrencia_tipo_df[\"ocorrencia_tipo\"])\n",
    "\n",
    "# Concatenar as dummies com a coluna \"codigo_ocorrencia1\"\n",
    "ocorrencia_tipo_df = pd.concat([ocorrencia_tipo_df[\"codigo_ocorrencia1\"], ocorrencia_tipo_dummies], axis=1)\n",
    "\n",
    "# Agrupar por \"codigo_ocorrencia1\" e aplicar o operador \"max\" para cada coluna\n",
    "ocorrencia_tipo_df = ocorrencia_tipo_df.groupby(\"codigo_ocorrencia1\").max().reset_index()\n",
    "\n",
    "# Juntar a tabela resultante com a primeira tabela usando \"codigo_ocorrencia1\"\n",
    "merged_df = pd.merge(ocorrencia_df, ocorrencia_tipo_df, on=\"codigo_ocorrencia1\", how=\"left\")\n",
    "merged_df = pd.merge(merged_df, aeronave_df, left_on='codigo_ocorrencia2', right_on=\"codigo_ocorrencia2\", how='left')\n",
    "# merged_df = pd.merge(merged_df, recomendacao_df, left_on='codigo_ocorrencia4', how='left')\n",
    "\n",
    "# Exibir o resultado\n",
    "merged_df.to_excel('tabela_consolidada_ocorrencias_v2.xlsx', index=False)"
   ]
  },
  {
   "cell_type": "code",
   "execution_count": 4,
   "metadata": {},
   "outputs": [],
   "source": [
    "import pandas as pd\n",
    "\n",
    "file_path = 'tb_ocorrencias.xlsx'\n",
    "\n",
    "aeronave_df = pd.read_excel(file_path, sheet_name='aeronave')\n",
    "counted_values = aeronave_df.value_counts(\"codigo_ocorrencia2\")\n",
    "\n",
    "#Count how many values are duplicated\n",
    "duplicated_values = counted_values[counted_values > 1].index"
   ]
  },
  {
   "cell_type": "code",
   "execution_count": 6,
   "metadata": {},
   "outputs": [
    {
     "data": {
      "text/plain": [
       "86"
      ]
     },
     "execution_count": 6,
     "metadata": {},
     "output_type": "execute_result"
    }
   ],
   "source": [
    "len(duplicated_values)"
   ]
  }
 ],
 "metadata": {
  "kernelspec": {
   "display_name": "Python 3",
   "language": "python",
   "name": "python3"
  },
  "language_info": {
   "codemirror_mode": {
    "name": "ipython",
    "version": 3
   },
   "file_extension": ".py",
   "mimetype": "text/x-python",
   "name": "python",
   "nbconvert_exporter": "python",
   "pygments_lexer": "ipython3",
   "version": "3.11.7"
  }
 },
 "nbformat": 4,
 "nbformat_minor": 2
}
